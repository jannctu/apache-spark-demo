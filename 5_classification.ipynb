{
 "cells": [
  {
   "cell_type": "code",
   "execution_count": 1,
   "metadata": {},
   "outputs": [],
   "source": [
    "from pyspark.sql.types import *\n",
    "from pyspark.sql.functions import *\n",
    "from pyspark.ml.classification import LogisticRegression\n",
    "from pyspark.ml.feature import VectorAssembler"
   ]
  },
  {
   "cell_type": "code",
   "execution_count": 2,
   "metadata": {},
   "outputs": [],
   "source": [
    "appName = \"Classification in Spark\"\n",
    "spark = SparkSession \\\n",
    "    .builder \\\n",
    "    .appName(appName) \\\n",
    "    .config(\"spark.some.config.option\", \"some-value\") \\\n",
    "    .getOrCreate()"
   ]
  },
  {
   "cell_type": "code",
   "execution_count": 4,
   "metadata": {},
   "outputs": [
    {
     "name": "stdout",
     "output_type": "stream",
     "text": [
      "+----------+---------+-------+---------------+-------------+--------+--------+\n",
      "|DayofMonth|DayOfWeek|Carrier|OriginAirportID|DestAirportID|DepDelay|ArrDelay|\n",
      "+----------+---------+-------+---------------+-------------+--------+--------+\n",
      "|        19|        5|     DL|          11433|        13303|      -3|       1|\n",
      "|        19|        5|     DL|          14869|        12478|       0|      -8|\n",
      "|        19|        5|     DL|          14057|        14869|      -4|     -15|\n",
      "+----------+---------+-------+---------------+-------------+--------+--------+\n",
      "only showing top 3 rows\n",
      "\n"
     ]
    }
   ],
   "source": [
    "flightSchema = StructType([\n",
    "  StructField(\"DayofMonth\", IntegerType(), False),\n",
    "  StructField(\"DayOfWeek\", IntegerType(), False),\n",
    "  StructField(\"Carrier\", StringType(), False),\n",
    "  StructField(\"OriginAirportID\", IntegerType(), False),\n",
    "  StructField(\"DestAirportID\", IntegerType(), False),\n",
    "  StructField(\"DepDelay\", IntegerType(), False),\n",
    "  StructField(\"ArrDelay\", IntegerType(), False),\n",
    "])\n",
    "#read csv data with our defined schema\n",
    "csv = spark.read.csv('dataset/flights.csv', schema=flightSchema, header=True)\n",
    "csv.show(3)"
   ]
  },
  {
   "cell_type": "code",
   "execution_count": 5,
   "metadata": {},
   "outputs": [
    {
     "name": "stdout",
     "output_type": "stream",
     "text": [
      "+----------+---------+---------------+-------------+--------+----+\n",
      "|DayofMonth|DayOfWeek|OriginAirportID|DestAirportID|DepDelay|Late|\n",
      "+----------+---------+---------------+-------------+--------+----+\n",
      "|        19|        5|          11433|        13303|      -3|   0|\n",
      "|        19|        5|          14869|        12478|       0|   0|\n",
      "|        19|        5|          14057|        14869|      -4|   0|\n",
      "+----------+---------+---------------+-------------+--------+----+\n",
      "only showing top 3 rows\n",
      "\n"
     ]
    }
   ],
   "source": [
    "data = csv.select(\n",
    "    \"DayofMonth\", \"DayOfWeek\", \"OriginAirportID\", \"DestAirportID\", \n",
    "    \"DepDelay\", ((col(\"ArrDelay\") > 15).cast(\"Int\").alias(\"Late\")))\n",
    "data.show(3)"
   ]
  },
  {
   "cell_type": "code",
   "execution_count": 6,
   "metadata": {},
   "outputs": [
    {
     "name": "stdout",
     "output_type": "stream",
     "text": [
      "Training data rows: 1890560 ; Testing data rows: 811658\n"
     ]
    }
   ],
   "source": [
    "\n",
    "#divide data, 70% for training, 30% for testing\n",
    "dividedData = data.randomSplit([0.7, 0.3]) \n",
    "trainingData = dividedData[0] #index 0 = data training\n",
    "testingData = dividedData[1] #index 1 = data testing\n",
    "train_rows = trainingData.count()\n",
    "test_rows = testingData.count()\n",
    "print (\"Training data rows:\", train_rows, \"; Testing data rows:\", test_rows)"
   ]
  },
  {
   "cell_type": "code",
   "execution_count": 7,
   "metadata": {},
   "outputs": [
    {
     "name": "stdout",
     "output_type": "stream",
     "text": [
      "+------------------------------+-----+\n",
      "|features                      |label|\n",
      "+------------------------------+-----+\n",
      "|[1.0,1.0,10140.0,10397.0,-4.0]|0    |\n",
      "|[1.0,1.0,10140.0,10397.0,-2.0]|0    |\n",
      "+------------------------------+-----+\n",
      "only showing top 2 rows\n",
      "\n"
     ]
    }
   ],
   "source": [
    "#define an assembler\n",
    "assembler = VectorAssembler(inputCols = [\n",
    "    \"DayofMonth\", \"DayOfWeek\", \"OriginAirportID\", \"DestAirportID\", \n",
    "    \"DepDelay\"], outputCol=\"features\")\n",
    "trainingDataFinal = assembler.transform(\n",
    "    trainingData).select(col(\"features\"), col(\"Late\").alias(\"label\"))\n",
    "trainingDataFinal.show(truncate=False, n=2)"
   ]
  },
  {
   "cell_type": "code",
   "execution_count": 8,
   "metadata": {},
   "outputs": [
    {
     "name": "stdout",
     "output_type": "stream",
     "text": [
      "Classifier model is trained!\n"
     ]
    }
   ],
   "source": [
    "#define our classifier\n",
    "classifier = LogisticRegression(\n",
    "    labelCol=\"label\",featuresCol=\"features\",maxIter=10,regParam=0.3)\n",
    "#train our classifier\n",
    "model = classifier.fit(trainingDataFinal)\n",
    "print (\"Classifier model is trained!\")"
   ]
  },
  {
   "cell_type": "code",
   "execution_count": 9,
   "metadata": {},
   "outputs": [
    {
     "name": "stdout",
     "output_type": "stream",
     "text": [
      "+--------------------+---------+\n",
      "|            features|trueLabel|\n",
      "+--------------------+---------+\n",
      "|[1.0,1.0,10140.0,...|        0|\n",
      "|[1.0,1.0,10140.0,...|        0|\n",
      "|[1.0,1.0,10140.0,...|        0|\n",
      "+--------------------+---------+\n",
      "only showing top 3 rows\n",
      "\n"
     ]
    }
   ],
   "source": [
    "testingDataFinal = assembler.transform(\n",
    "    testingData).select(col(\"features\"), col(\"Late\").alias(\"trueLabel\"))\n",
    "testingDataFinal.show(3)"
   ]
  },
  {
   "cell_type": "code",
   "execution_count": 10,
   "metadata": {},
   "outputs": [
    {
     "name": "stdout",
     "output_type": "stream",
     "text": [
      "+------------------------------+----------+----------------------------------------+---------+\n",
      "|features                      |prediction|probability                             |trueLabel|\n",
      "+------------------------------+----------+----------------------------------------+---------+\n",
      "|[1.0,1.0,10140.0,10821.0,8.0] |0.0       |[0.8069103924200056,0.19308960757999438]|0        |\n",
      "|[1.0,1.0,10140.0,11259.0,0.0] |0.0       |[0.8238696882876396,0.17613031171236038]|0        |\n",
      "|[1.0,1.0,10140.0,11292.0,-1.0]|0.0       |[0.8258951087198267,0.17410489128017326]|0        |\n",
      "+------------------------------+----------+----------------------------------------+---------+\n",
      "only showing top 3 rows\n",
      "\n",
      "+------------------------------+---------+----------------------------------------+----------------------------------------+----------+\n",
      "|features                      |trueLabel|rawPrediction                           |probability                             |prediction|\n",
      "+------------------------------+---------+----------------------------------------+----------------------------------------+----------+\n",
      "|[1.0,1.0,10140.0,10821.0,8.0] |0        |[1.4300582550755432,-1.4300582550755432]|[0.8069103924200056,0.19308960757999438]|0.0       |\n",
      "|[1.0,1.0,10140.0,11259.0,0.0] |0        |[1.542788243592831,-1.542788243592831]  |[0.8238696882876396,0.17613031171236038]|0.0       |\n",
      "|[1.0,1.0,10140.0,11292.0,-1.0]|0        |[1.556809837396708,-1.556809837396708]  |[0.8258951087198267,0.17410489128017326]|0.0       |\n",
      "+------------------------------+---------+----------------------------------------+----------------------------------------+----------+\n",
      "only showing top 3 rows\n",
      "\n"
     ]
    }
   ],
   "source": [
    "prediction = model.transform(testingDataFinal)\n",
    "predictionFinal = prediction.select(\n",
    "    \"features\", \"prediction\", \"probability\", \"trueLabel\")\n",
    "predictionFinal.show(truncate=False, n=3)\n",
    "prediction.show(truncate=False, n=3)"
   ]
  },
  {
   "cell_type": "code",
   "execution_count": 11,
   "metadata": {},
   "outputs": [
    {
     "name": "stdout",
     "output_type": "stream",
     "text": [
      "correct prediction: 668500 , total data: 811658 , accuracy: 0.8236227573682512\n"
     ]
    }
   ],
   "source": [
    "correctPrediction = predictionFinal.filter(\n",
    "    predictionFinal['prediction'] == predictionFinal['trueLabel']).count()\n",
    "totalData = predictionFinal.count()\n",
    "print(\"correct prediction:\", correctPrediction, \", total data:\", totalData, \n",
    "      \", accuracy:\", correctPrediction/totalData)"
   ]
  },
  {
   "cell_type": "code",
   "execution_count": 12,
   "metadata": {},
   "outputs": [
    {
     "name": "stdout",
     "output_type": "stream",
     "text": [
      "Model is trained!\n"
     ]
    }
   ],
   "source": [
    "from pyspark.ml.classification import RandomForestClassifier\n",
    "\n",
    "model2 = RandomForestClassifier(\n",
    "    numTrees=3, maxDepth=5, seed=42, labelCol=\"label\",featuresCol=\"features\")\n",
    "model2 = model2.fit(trainingDataFinal)\n",
    "print (\"Model is trained!\")"
   ]
  },
  {
   "cell_type": "code",
   "execution_count": 13,
   "metadata": {},
   "outputs": [
    {
     "name": "stdout",
     "output_type": "stream",
     "text": [
      "+------------------------------+----------+----------------------------------------+---------+\n",
      "|features                      |prediction|probability                             |trueLabel|\n",
      "+------------------------------+----------+----------------------------------------+---------+\n",
      "|[1.0,1.0,10140.0,10821.0,8.0] |0.0       |[0.9278072103827015,0.07219278961729844]|0        |\n",
      "|[1.0,1.0,10140.0,11259.0,0.0] |0.0       |[0.9278072103827015,0.07219278961729844]|0        |\n",
      "|[1.0,1.0,10140.0,11292.0,-1.0]|0.0       |[0.9278072103827015,0.07219278961729844]|0        |\n",
      "+------------------------------+----------+----------------------------------------+---------+\n",
      "only showing top 3 rows\n",
      "\n",
      "correct prediction: 751402 , total data: 811658 , accuracy 0.9257618356499905\n"
     ]
    }
   ],
   "source": [
    "prediction = model2.transform(testingDataFinal)\n",
    "predictionFinal = prediction.select(\n",
    "    \"features\", \"prediction\", \"probability\", \"trueLabel\")\n",
    "predictionFinal.show(truncate=False, n=3)\n",
    "correctPrediction = predictionFinal.filter(\n",
    "    predictionFinal['prediction'] == predictionFinal['trueLabel']).count()\n",
    "totalData = predictionFinal.count()\n",
    "print(\"correct prediction:\", correctPrediction, \", total data:\", \n",
    "      totalData, \", accuracy\", correctPrediction/totalData)"
   ]
  },
  {
   "cell_type": "code",
   "execution_count": null,
   "metadata": {},
   "outputs": [],
   "source": []
  }
 ],
 "metadata": {
  "kernelspec": {
   "display_name": "Python 3",
   "language": "python",
   "name": "python3"
  },
  "language_info": {
   "codemirror_mode": {
    "name": "ipython",
    "version": 3
   },
   "file_extension": ".py",
   "mimetype": "text/x-python",
   "name": "python",
   "nbconvert_exporter": "python",
   "pygments_lexer": "ipython3",
   "version": "3.8.5"
  }
 },
 "nbformat": 4,
 "nbformat_minor": 4
}
